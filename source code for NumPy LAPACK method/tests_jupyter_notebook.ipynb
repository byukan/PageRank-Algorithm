{
 "cells": [
  {
   "cell_type": "code",
   "execution_count": 1,
   "metadata": {
    "collapsed": false
   },
   "outputs": [
    {
     "name": "stderr",
     "output_type": "stream",
     "text": [
      " 2016-10-15 23:30:40,217 - DEBUG - [ 0.5  0.5]\n"
     ]
    }
   ],
   "source": [
    "\"\"\"\n",
    "@file testing.py\n",
    "@author Justin J. Wang <justwjr@ucla.edu>\n",
    "@date 10/7/16\n",
    "@brief a .py file of your unit tests, using either nosetests or unittest (nosetest preferred)\n",
    "\"\"\"\n",
    "\n",
    "from nose.tools import *\n",
    "from nose import SkipTest\n",
    "\n",
    "import logging\n",
    "\n",
    "logging.basicConfig(level=logging.DEBUG, format=' %(asctime)s - %(levelname)s - %(message)s')\n",
    "\n",
    "import numpy as np\n",
    "import networkx as nx\n",
    "\n",
    "import pprint\n",
    "\n",
    "\n",
    "# fixture for nose tests\n",
    "def setup_module(module):\n",
    "    from nose import SkipTest\n",
    "    try:\n",
    "        import numpy\n",
    "    except:\n",
    "        raise SkipTest(\"NumPy not available\")\n",
    "    try:\n",
    "        import scipy\n",
    "    except:\n",
    "        raise SkipTest(\"SciPy not available\")\n",
    "\n",
    "\n",
    "def test_dangling_node():\n",
    "    # create 2x2 adjacency matrix, where node B connects to node A, and node A has no out-edges\n",
    "    # the adjacency matrix would look like:  ('0 0; 0 1')\n",
    "    # G = nx.Graph()\n",
    "    G = nx.DiGraph()\n",
    "    # G.add_edge(2, 1)\n",
    "    G.add_edge(43521, 9643)\n",
    "\n",
    "    M = nx.to_numpy_matrix(G)\n",
    "\n",
    "    # running this test showed me that I had to make a directed graph, because\n",
    "    logging.debug(M)\n",
    "\n",
    "    n = len(G)\n",
    "    p = np.repeat(1.0 / n, n)  # repeat 1/n, n times\n",
    "\n",
    "    dangling_weights = p\n",
    "\n",
    "    # dangling nodes are nodes with no out links\n",
    "\n",
    "    # np.where returns a tuple of arrays where condition is true\n",
    "    dangling_nodes = np.where(M.sum(axis=1) == 0)\n",
    "    # dangling_nodes = np.where(M.sum(axis=1) == 0)[0]  # rows that sum to 0\n",
    "    # dangling_nodes = np.where(M.sum(axis=0) == 0)[0]  # columns that sum to 0\n",
    "\n",
    "    logging.debug(dangling_nodes)  # we can see that\n",
    "\n",
    "    # assert_equal(42, 42)\n",
    "    # assert_not_in('camelCase', inflections)\n",
    "    # with assert_raises(AttributeError):\n",
    "    #     object.foo\n",
    "\n",
    "\n",
    "def test_np_repeat():\n",
    "    G = nx.DiGraph()\n",
    "    # G.add_edge(2, 1)\n",
    "    G.add_edge(43521, 9643)\n",
    "    # draw_networkx\n",
    "\n",
    "    n = len(G)\n",
    "    p = np.repeat(1.0 / n, n)  # repeat 1/n, n times\n",
    "    logging.debug(p)\n",
    "\n",
    "    assert_equal(list(p), [.5, .5])\n",
    "\n",
    "    nx.draw_networkx(G)\n",
    "\n",
    "\n",
    "def test_np_array_sum():\n",
    "    A = np.array([[0, 1, 2, 3],\n",
    "                  [4, 5, 6, 7],\n",
    "                  [8, 9, 10, 11]])\n",
    "\n",
    "    print(A.sum())  # sum all the elements\n",
    "    print(A.sum(axis=0))  # sum along each column\n",
    "    print(A.sum(axis=1))  # sum along each row\n",
    "\n",
    "\n",
    "def test_np_where():\n",
    "    A = np.array([[0, 1, 2, 3],\n",
    "                  [4, 5, 6, 7],\n",
    "                  [8, 9, 10, 11]])\n",
    "\n",
    "    B = np.array([[0, 1, 0, 3],\n",
    "                  [0, 5, 0, 7],\n",
    "                  [0, 9, 0, 11]])\n",
    "\n",
    "    print(A.sum(axis=1))  # sum along each row\n",
    "\n",
    "    print(np.where(A.sum(axis=1) == 0)[0])\n",
    "    # assert (np.where(A.sum(axis=1) == 0)[0] == [])\n",
    "    # logging.debug(np.where(B.sum(axis=1) == 0)[0])\n",
    "    pprint.pprint(np.where(B.sum(axis=0) == 0)[0])  # column 0 and 2 sum to 0\n",
    "\n",
    "\n",
    "# test_dangling_node()\n",
    "test_np_repeat()\n",
    "# test_np_array_sum()\n",
    "# test_np_where()\n"
   ]
  },
  {
   "cell_type": "code",
   "execution_count": 6,
   "metadata": {
    "collapsed": true
   },
   "outputs": [],
   "source": [
    "G = nx.DiGraph()\n",
    "G.add_edge(2, 1)\n",
    "\n",
    "nx.draw(G)"
   ]
  },
  {
   "cell_type": "code",
   "execution_count": null,
   "metadata": {
    "collapsed": true
   },
   "outputs": [],
   "source": []
  }
 ],
 "metadata": {
  "anaconda-cloud": {},
  "kernelspec": {
   "display_name": "Python [conda root]",
   "language": "python",
   "name": "conda-root-py"
  },
  "language_info": {
   "codemirror_mode": {
    "name": "ipython",
    "version": 3
   },
   "file_extension": ".py",
   "mimetype": "text/x-python",
   "name": "python",
   "nbconvert_exporter": "python",
   "pygments_lexer": "ipython3",
   "version": "3.5.2"
  }
 },
 "nbformat": 4,
 "nbformat_minor": 0
}
